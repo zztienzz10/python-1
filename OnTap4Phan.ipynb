{
  "nbformat": 4,
  "nbformat_minor": 0,
  "metadata": {
    "colab": {
      "provenance": []
    },
    "kernelspec": {
      "name": "python3",
      "display_name": "Python 3"
    },
    "language_info": {
      "name": "python"
    }
  },
  "cells": [
    {
      "cell_type": "markdown",
      "source": [
        "Phần 1: Từ điển (dictionary), Danh sách (List)\n",
        "\n",
        "- Viết hàm: tổng, trung bình, min max\n",
        "\n",
        "- Viết chương trình:\n",
        "\n",
        " Tạo mới từ điển\n",
        "\n",
        " Chạy các hàm"
      ],
      "metadata": {
        "id": "Vsw0Gq6lv8kS"
      }
    },
    {
      "cell_type": "code",
      "execution_count": null,
      "metadata": {
        "colab": {
          "base_uri": "https://localhost:8080/"
        },
        "id": "4Ddsph33v1ZC",
        "outputId": "361e514e-fcaa-418d-af63-6ad87719286d"
      },
      "outputs": [
        {
          "output_type": "stream",
          "name": "stdout",
          "text": [
            "Nhập số lượng từ điển: 2\n",
            "Nhập khóa cho từ điển thứ 1: xanh\n",
            "Nhập danh sách các số, cách nhau bằng dấu cách: 1 23 45 12\n",
            "Nhập khóa cho từ điển thứ 2: sach\n",
            "Nhập danh sách các số, cách nhau bằng dấu cách: 12 43  12 5 \n",
            "Key: xanh\n",
            "Danh sách: [1.0, 23.0, 45.0, 12.0]\n",
            "Tổng: 81.0\n",
            "Trung bình: 20.25\n",
            "Min: 1.0\n",
            "Max: 45.0\n",
            "\n",
            "Key: sach\n",
            "Danh sách: [12.0, 43.0, 12.0, 5.0]\n",
            "Tổng: 72.0\n",
            "Trung bình: 18.0\n",
            "Min: 5.0\n",
            "Max: 43.0\n",
            "\n"
          ]
        }
      ],
      "source": [
        "def tinh_tong(danh_sach):\n",
        "    return sum(danh_sach)\n",
        "\n",
        "def tinh_trung_binh(danh_sach):\n",
        "    return sum(danh_sach) / len(danh_sach)\n",
        "\n",
        "def tim_gia_tri_min(danh_sach):\n",
        "    return min(danh_sach)\n",
        "\n",
        "def tim_gia_tri_max(danh_sach):\n",
        "    return max(danh_sach)\n",
        "\n",
        "def nhap_danh_sach():\n",
        "    return list(map(float, input(\"Nhập danh sách các số, cách nhau bằng dấu cách: \").split()))\n",
        "\n",
        "def main():\n",
        "    tu_dien = {}\n",
        "    so_luong_tu_dien = int(input(\"Nhập số lượng từ điển: \"))\n",
        "\n",
        "    for i in range(so_luong_tu_dien):\n",
        "        key = input(f\"Nhập khóa cho từ điển thứ {i+1}: \")\n",
        "        value = nhap_danh_sach()\n",
        "        tu_dien[key] = value\n",
        "\n",
        "    for key, value in tu_dien.items():\n",
        "        print(\"Key:\", key)\n",
        "        print(\"Danh sách:\", value)\n",
        "        print(\"Tổng:\", tinh_tong(value))\n",
        "        print(\"Trung bình:\", tinh_trung_binh(value))\n",
        "        print(\"Min:\", tim_gia_tri_min(value))\n",
        "        print(\"Max:\", tim_gia_tri_max(value))\n",
        "        print()\n",
        "\n",
        "if __name__ == \"__main__\":\n",
        "    main()"
      ]
    },
    {
      "cell_type": "markdown",
      "source": [
        "# **Phần 2: OOP**\n",
        "\n",
        "Lớp trừu tượng:\n",
        "\n",
        "private\n",
        "\n",
        "str()\n",
        "\n",
        "phương thức trừu tượng\n",
        "\n",
        "Lớp kế thừa\n",
        "\n",
        "Tạo lớp chạy chương trình:\n",
        "\n",
        "phương thức thêm đối tượng\n",
        "\n",
        "phương thức tính tổng"
      ],
      "metadata": {
        "id": "cqFZJl2OwPsp"
      }
    },
    {
      "cell_type": "code",
      "source": [
        "from abc import ABC, abstractmethod\n",
        "\n",
        "class Person(ABC):\n",
        "    def __init__(self, name, age):\n",
        "        self._name = name\n",
        "        self._age = age\n",
        "\n",
        "    def get_name(self):\n",
        "        return self._name\n",
        "\n",
        "    def get_age(self):\n",
        "        return self._age\n",
        "\n",
        "    @abstractmethod\n",
        "    def show_info(self):\n",
        "        pass\n",
        "\n",
        "    def __str__(self):\n",
        "        return f\"Tên: {self._name}\\nTuổi: {self._age}\"\n",
        "\n",
        "\n",
        "class Student(Person):\n",
        "    def __init__(self, name, age, student_id):\n",
        "        super().__init__(name, age)\n",
        "        self._student_id = student_id\n",
        "\n",
        "    def get_student_id(self):\n",
        "        return self._student_id\n",
        "\n",
        "    def show_info(self):\n",
        "        print(\"Thông tin sinh viên:\")\n",
        "        print(super().__str__())\n",
        "        print(f\"Mã sinh viên: {self._student_id}\")\n",
        "\n",
        "\n",
        "class Program:\n",
        "    def __init__(self):\n",
        "        self.students = []\n",
        "\n",
        "    def add_student(self, student):\n",
        "        self.students.append(student)\n",
        "\n",
        "    def calculate_total_students(self):\n",
        "        return len(self.students)\n",
        "\n",
        "    def show_all_students(self):\n",
        "        for student in self.students:\n",
        "            print(student)\n",
        "\n",
        "def main():\n",
        "    program = Program()\n",
        "\n",
        "    while True:\n",
        "        name = input(\"Nhập tên sinh viên (hoặc nhập 'q' để kết thúc): \")\n",
        "        if name == 'q':\n",
        "            break\n",
        "\n",
        "        age = int(input(\"Nhập tuổi sinh viên: \"))\n",
        "        student_id = input(\"Nhập mã sinh viên: \")\n",
        "\n",
        "        student = Student(name, age, student_id)\n",
        "        program.add_student(student)\n",
        "\n",
        "    print(\"Tổng số sinh viên:\", program.calculate_total_students())\n",
        "    program.show_all_students()\n",
        "\n",
        "if __name__ == \"__main__\":\n",
        "    main()"
      ],
      "metadata": {
        "colab": {
          "base_uri": "https://localhost:8080/"
        },
        "id": "SHhi8qD8xmle",
        "outputId": "5179e19c-1cb1-4a47-e8d2-7fc7d43aafeb"
      },
      "execution_count": null,
      "outputs": [
        {
          "output_type": "stream",
          "name": "stdout",
          "text": [
            "Nhập tên sinh viên (hoặc nhập 'q' để kết thúc): ly\n",
            "Nhập tuổi sinh viên: 21\n",
            "Nhập mã sinh viên: 1\n",
            "Nhập tên sinh viên (hoặc nhập 'q' để kết thúc): my\n",
            "Nhập tuổi sinh viên: 4\n",
            "Nhập mã sinh viên: 54\n",
            "Nhập tên sinh viên (hoặc nhập 'q' để kết thúc): linh\n",
            "Nhập tuổi sinh viên: 12\n",
            "Nhập mã sinh viên: 5\n",
            "Nhập tên sinh viên (hoặc nhập 'q' để kết thúc): q\n",
            "Tổng số sinh viên: 3\n",
            "Tên: ly\n",
            "Tuổi: 21\n",
            "Tên: my\n",
            "Tuổi: 4\n",
            "Tên: linh\n",
            "Tuổi: 12\n"
          ]
        }
      ]
    },
    {
      "cell_type": "markdown",
      "source": [
        "Phần 3: Thư viện Numpy\n",
        "\n",
        "Tạo ma trận: 1D, 2D, 3D\n",
        "\n",
        "Tính toán:\n",
        "\n",
        "+ Tổng, hiệu, tích các phần tử / theo hàng, cột\n",
        "\n",
        "+ Tìm giá trị thống kê: min, max, mean, median,...\n",
        "\n",
        "+ Sắp xếp mảng theo hàng, cột\n",
        "\n",
        "+ Tìm vị trí phần tử\n",
        "\n",
        "+ Lọc máng: xuất các phần từ thõa điều kiện nào đó\n",
        "\n",
        "+ Tích vô hướng, chuyển vị....\n",
        "\n",
        "+ Giải hệ Phương trình Ax-B"
      ],
      "metadata": {
        "id": "win-NMnn140F"
      }
    },
    {
      "cell_type": "code",
      "source": [
        "import numpy as np\n",
        "\n",
        "# Tạo ma trận 1D từ dữ liệu người dùng nhập\n",
        "arr_1d = np.array(input(\"Nhập mảng 1D, các phần tử cách nhau bằng dấu cách: \").split(), dtype=int)\n",
        "print(\"Ma trận 1D:\")\n",
        "print(arr_1d)\n",
        "2"
      ],
      "metadata": {
        "colab": {
          "base_uri": "https://localhost:8080/"
        },
        "id": "wLTPUjqu9Mjw",
        "outputId": "57b03480-2d9a-4e1e-904b-70e839e2522e"
      },
      "execution_count": null,
      "outputs": [
        {
          "output_type": "stream",
          "name": "stdout",
          "text": [
            "Nhập mảng 1D, các phần tử cách nhau bằng dấu cách: 123 4\n",
            "Ma trận 1D:\n",
            "[123   4]\n"
          ]
        }
      ]
    },
    {
      "cell_type": "code",
      "source": [
        "# Tạo ma trận 2D từ dữ liệu người dùng nhập\n",
        "rows = int(input(\"Nhập số hàng của ma trận 2D: \"))\n",
        "cols = int(input(\"Nhập số cột của ma trận 2D: \"))\n",
        "arr_2d = np.zeros((rows, cols), dtype=int)\n",
        "print(\"Nhập các phần tử của ma trận 2D:\")\n",
        "for i in range(rows):\n",
        "    arr_2d[i] = input().split()\n",
        "print(\"Ma trận 2D:\")\n",
        "print(arr_2d)"
      ],
      "metadata": {
        "colab": {
          "base_uri": "https://localhost:8080/"
        },
        "id": "khs1AxzG15R9",
        "outputId": "74f6860a-6473-409a-98b0-dc35184f1af6"
      },
      "execution_count": null,
      "outputs": [
        {
          "output_type": "stream",
          "name": "stdout",
          "text": [
            "Nhập số hàng của ma trận 2D: 2\n",
            "Nhập số cột của ma trận 2D: 2\n",
            "Nhập các phần tử của ma trận 2D:\n",
            "1\n",
            "42\n",
            "Ma trận 2D:\n",
            "[[ 1  1]\n",
            " [42 42]]\n"
          ]
        }
      ]
    },
    {
      "cell_type": "code",
      "source": [
        "# Tạo ma trận 3D từ dữ liệu người dùng nhập\n",
        "dim1 = int(input(\"Nhập kích thước chiều 1 của ma trận 3D: \"))\n",
        "dim2 = int(input(\"Nhập kích thước chiều 2 của ma trận 3D: \"))\n",
        "dim3 = int(input(\"Nhập kích thước chiều 3 của ma trận 3D: \"))\n",
        "arr_3d = np.zeros((dim1, dim2, dim3), dtype=int)\n",
        "print(\"Nhập các phần tử của ma trận 3D:\")\n",
        "for i in range(dim1):\n",
        "    for j in range(dim2):\n",
        "        arr_3d[i][j] = input().split()\n",
        "print(\"Ma trận 3D:\")\n",
        "print(arr_3d)"
      ],
      "metadata": {
        "id": "yTQ5uNk4_lMG"
      },
      "execution_count": null,
      "outputs": []
    },
    {
      "cell_type": "code",
      "source": [
        "# Tính tổng các phần tử của ma trận 2D\n",
        "print(\"\\nTổng các phần tử của ma trận 2D:\")\n",
        "print(np.sum(arr_2d))\n"
      ],
      "metadata": {
        "id": "q4pxFT1v_lCO"
      },
      "execution_count": null,
      "outputs": []
    },
    {
      "cell_type": "code",
      "source": [
        "# Tính hiệu của hai ma trận 2D\n",
        "print(\"\\nHiệu của hai ma trận 2D:\")\n",
        "arr_2d_2 = np.array(input(\"Nhập ma trận 2D thứ hai, các phần tử cách nhau bằng dấu cách: \").split(), dtype=int).reshape((rows, cols))\n",
        "print(arr_2d - arr_2d_2)\n"
      ],
      "metadata": {
        "id": "YKAcO031_k4o"
      },
      "execution_count": null,
      "outputs": []
    },
    {
      "cell_type": "code",
      "source": [
        "# Tính tích các phần tử của ma trận 2D\n",
        "print(\"\\nTích các phần tử của ma trận 2D:\")\n",
        "print(np.prod(arr_2d))"
      ],
      "metadata": {
        "id": "2Ku1bvVc_kwe"
      },
      "execution_count": null,
      "outputs": []
    },
    {
      "cell_type": "code",
      "source": [
        "# Tính tổng các phần tử theo hàng của ma trận 2D\n",
        "print(\"\\nTổng các phần tử theo hàng của ma trận 2D:\")\n",
        "print(np.sum(arr_2d, axis=1))"
      ],
      "metadata": {
        "id": "HFO66U5N_koA"
      },
      "execution_count": null,
      "outputs": []
    },
    {
      "cell_type": "code",
      "source": [
        "# Tính tổng các phần tử theo cột của ma trận 2D\n",
        "print(\"\\nTổng các phần tử theo cột của ma trận 2D:\")\n",
        "print(np.sum(arr_2d, axis=0))\n"
      ],
      "metadata": {
        "id": "-kC8WyYa_kZj"
      },
      "execution_count": null,
      "outputs": []
    },
    {
      "cell_type": "code",
      "source": [
        "# Tìm giá trị nhỏ nhất của ma trận 2D\n",
        "print(\"\\nGiá trị nhỏ nhất của ma trận 2D:\")\n",
        "print(np.min(arr_2d))\n"
      ],
      "metadata": {
        "id": "0oNlDchb_17K"
      },
      "execution_count": null,
      "outputs": []
    },
    {
      "cell_type": "code",
      "source": [
        "# Tìm giá trị lớn nhất của ma trận 2D\n",
        "print(\"\\nGiá trị lớn nhất của ma trận 2D:\")\n",
        "print(np.max(arr_2d))\n"
      ],
      "metadata": {
        "id": "OrkEhJER_13k"
      },
      "execution_count": null,
      "outputs": []
    },
    {
      "cell_type": "code",
      "source": [
        "# Tính trung bình các phần tử của ma trận 2D\n",
        "print(\"\\nTrung bình các phần tử của ma trận 2D:\")\n",
        "print(np.mean(arr_2d))\n"
      ],
      "metadata": {
        "id": "xr1d78lX_10R"
      },
      "execution_count": null,
      "outputs": []
    },
    {
      "cell_type": "code",
      "source": [
        "# Tính trung vị của ma trận 2D\n",
        "print(\"\\nTrung vị của ma trận 2D:\")\n",
        "print(np.median(arr_2d))"
      ],
      "metadata": {
        "id": "BDZGJuaP_1xR"
      },
      "execution_count": null,
      "outputs": []
    },
    {
      "cell_type": "code",
      "source": [
        "# Sắp xếp các phần tử theo hàng của ma trận 2D\n",
        "print(\"\\nSắp xếp các phần tử theo hàng của ma trận 2D:\")\n",
        "print(np.sort(arr_2d, axis=1))\n"
      ],
      "metadata": {
        "id": "4Kn38xUs_1sE"
      },
      "execution_count": null,
      "outputs": []
    },
    {
      "cell_type": "code",
      "source": [
        "# Sắp xếp các phần tử theo cột của ma trận 2D:\n",
        "print(\"\\nSắp xếp các phần tử theo cột của ma trận 2D:\")\n",
        "print(np.sort(arr_2d, axis=0))\n"
      ],
      "metadata": {
        "id": "quk0Sbtd_1kL"
      },
      "execution_count": null,
      "outputs": []
    },
    {
      "cell_type": "code",
      "source": [
        "# Tìm vị trí của một phần tử trong ma trận 2D\n",
        "element = int(input(\"\\nNhập phần tử cần tìm: \"))\n",
        "indices = np.where(arr_2d == element)\n",
        "print(\"Vị trí của phần tử trong ma trận 2D:\")\n",
        "print(list(zip(indices[0], indices[1])))\n"
      ],
      "metadata": {
        "id": "xXICHUxcAEep"
      },
      "execution_count": null,
      "outputs": []
    },
    {
      "cell_type": "code",
      "source": [
        "# Lọc các phần tử thỏa điều kiện từ ma trận 2D\n",
        "condition = int(input(\"\\nNhập điều kiện lọc: \"))\n",
        "filtered_arr = arr_2d[arr_2d > condition]\n",
        "print(\"Các phần tử thỏa điều kiện:\")\n",
        "print(filtered_arr)"
      ],
      "metadata": {
        "id": "znTvzCBZAEZP"
      },
      "execution_count": null,
      "outputs": []
    },
    {
      "cell_type": "code",
      "source": [
        "# Tích vô hướng của hai ma trận 2D\n",
        "arr_2d_3 = np.array(input(\"\\nNhập ma trận 2D thứ ba, các phần tử cách nhau bằng dấu cách: \").split(), dtype=int).reshape((rows, cols))\n",
        "dot_product = np.dot(arr_2d, arr_2d_3)\n",
        "print(\"Tích vô hướng của hai ma trận 2D:\")\n",
        "print(dot_product)\n"
      ],
      "metadata": {
        "id": "9CURgyBEAEWG"
      },
      "execution_count": null,
      "outputs": []
    },
    {
      "cell_type": "code",
      "source": [
        "# Chuyển vị ma trận 2D\n",
        "transposed_arr = np.transpose(arr_2d)\n",
        "print(\"\\nChuyển vị của ma trận 2D:\")\n",
        "print(transposed_arr)\n"
      ],
      "metadata": {
        "id": "TQt8YL7LAESf"
      },
      "execution_count": null,
      "outputs": []
    },
    {
      "cell_type": "code",
      "source": [
        "# Giải hệ phương trình Ax = B\n",
        "A = np.array(input(\"\\nNhập ma trận A, các phần tử cách nhau bằng dấu cách: \").split(), dtype=float).reshape((rows, cols))\n",
        "B = np.array(input(\"Nhập ma trận B, các phần tử cách nhau bằng dấu cách: \").split(), dtype=float).reshape((rows, 1))\n",
        "X = np.linalg.solve(A, B)\n",
        "print(\"\\nNghiệm của hệ phương trình Ax = B:\")\n",
        "print(X)"
      ],
      "metadata": {
        "id": "rIMVg0OgAEO9"
      },
      "execution_count": null,
      "outputs": []
    },
    {
      "cell_type": "code",
      "source": [
        "import numpy as np\n",
        "\n",
        "# Tạo ma trận 1D từ dữ liệu người dùng nhập\n",
        "arr_1d = np.array(input(\"Nhập mảng 1D, các phần tử cách nhau bằng dấu cách: \").split(), dtype=int)\n",
        "print(\"Ma trận 1D:\")\n",
        "print(arr_1d)\n",
        "\n",
        "# Tạo ma trận 2D từ dữ liệu người dùng nhập\n",
        "rows = int(input(\"Nhập số hàng của ma trận 2D: \"))\n",
        "cols = int(input(\"Nhập số cột của ma trận 2D: \"))\n",
        "arr_2d = np.zeros((rows, cols), dtype=int)\n",
        "print(\"Nhập các phần tử của ma trận 2D:\")\n",
        "for i in range(rows):\n",
        "    arr_2d[i] = input().split()\n",
        "print(\"Ma trận 2D:\")\n",
        "print(arr_2d)\n",
        "\n",
        "# Tạo ma trận 3D từ dữ liệu người dùng nhập\n",
        "dim1 = int(input(\"Nhập kích thước chiều 1 của ma trận 3D: \"))\n",
        "dim2 = int(input(\"Nhập kích thước chiều 2 của ma trận 3D: \"))\n",
        "dim3 = int(input(\"Nhập kích thước chiều 3 của ma trận 3D: \"))\n",
        "arr_3d = np.zeros((dim1, dim2, dim3), dtype=int)\n",
        "print(\"Nhập các phần tử của ma trận 3D:\")\n",
        "for i in range(dim1):\n",
        "    for j in range(dim2):\n",
        "        arr_3d[i][j] = input().split()\n",
        "print(\"Ma trận 3D:\")\n",
        "print(arr_3d)\n",
        "\n",
        "# Tính tổng các phần tử của ma trận 2D\n",
        "print(\"\\nTổng các phần tử của ma trận 2D:\")\n",
        "print(np.sum(arr_2d))\n",
        "\n",
        "# Tính hiệu của hai ma trận 2D\n",
        "print(\"\\nHiệu của hai ma trận 2D:\")\n",
        "arr_2d_2 = np.array(input(\"Nhập ma trận 2D thứ hai, các phần tử cách nhau bằng dấu cách: \").split(), dtype=int).reshape((rows, cols))\n",
        "print(arr_2d - arr_2d_2)\n",
        "\n",
        "# Tính tích các phần tử của ma trận 2D\n",
        "print(\"\\nTích các phần tử của ma trận 2D:\")\n",
        "print(np.prod(arr_2d))\n",
        "\n",
        "# Tính tổng các phần tử theo hàng của ma trận 2D\n",
        "print(\"\\nTổng các phần tử theo hàng của ma trận 2D:\")\n",
        "print(np.sum(arr_2d, axis=1))\n",
        "\n",
        "# Tính tổng các phần tử theo cột của ma trận 2D\n",
        "print(\"\\nTổng các phần tử theo cột của ma trận 2D:\")\n",
        "print(np.sum(arr_2d, axis=0))\n",
        "\n",
        "# Tìm giá trị nhỏ nhất của ma trận 2D\n",
        "print(\"\\nGiá trị nhỏ nhất của ma trận 2D:\")\n",
        "print(np.min(arr_2d))\n",
        "\n",
        "# Tìm giá trị lớn nhất của ma trận 2D\n",
        "print(\"\\nGiá trị lớn nhất của ma trận 2D:\")\n",
        "print(np.max(arr_2d))\n",
        "\n",
        "# Tính trung bình các phần tử của ma trận 2D\n",
        "print(\"\\nTrung bình các phần tử của ma trận 2D:\")\n",
        "print(np.mean(arr_2d))\n",
        "\n",
        "# Tính trung vị của ma trận 2D\n",
        "print(\"\\nTrung vị của ma trận 2D:\")\n",
        "print(np.median(arr_2d))\n",
        "\n",
        "# Sắp xếp các phần tử theo hàng của ma trận 2D\n",
        "print(\"\\nSắp xếp các phần tử theo hàng của ma trận 2D:\")\n",
        "print(np.sort(arr_2d, axis=1))\n",
        "\n",
        "# Sắp xếp các phần tử theo cột của ma trận 2D:\n",
        "print(\"\\nSắp xếp các phần tử theo cột của ma trận 2D:\")\n",
        "print(np.sort(arr_2d, axis=0))\n",
        "\n",
        "# Tìm vị trí của một phần tử trong ma trận 2D\n",
        "element = int(input(\"\\nNhập phần tử cần tìm: \"))\n",
        "indices = np.where(arr_2d == element)\n",
        "print(\"Vị trí của phần tử trong ma trận 2D:\")\n",
        "print(list(zip(indices[0], indices[1])))\n",
        "\n",
        "# Lọc các phần tử thỏa điều kiện từ ma trận 2D\n",
        "condition = int(input(\"\\nNhập điều kiện lọc: \"))\n",
        "filtered_arr = arr_2d[arr_2d > condition]\n",
        "print(\"Các phần tử thỏa điều kiện:\")\n",
        "print(filtered_arr)\n",
        "\n",
        "# Tích vô hướng của hai ma trận 2D\n",
        "arr_2d_3 = np.array(input(\"\\nNhập ma trận 2D thứ ba, các phần tử cách nhau bằng dấu cách: \").split(), dtype=int).reshape((rows, cols))\n",
        "dot_product = np.dot(arr_2d, arr_2d_3)\n",
        "print(\"Tích vô hướng của hai ma trận 2D:\")\n",
        "print(dot_product)\n",
        "\n",
        "# Chuyển vị ma trận 2D\n",
        "transposed_arr = np.transpose(arr_2d)\n",
        "print(\"\\nChuyển vị của ma trận 2D:\")\n",
        "print(transposed_arr)\n",
        "\n",
        "# Giải hệ phương trình Ax = B\n",
        "A = np.array(input(\"\\nNhập ma trận A, các phần tử cách nhau bằng dấu cách: \").split(), dtype=float).reshape((rows, cols))\n",
        "B = np.array(input(\"Nhập ma trận B, các phần tử cách nhau bằng dấu cách: \").split(), dtype=float).reshape((rows, 1))\n",
        "X = np.linalg.solve(A, B)\n",
        "print(\"\\nNghiệm của hệ phương trình Ax = B:\")\n",
        "print(X)"
      ],
      "metadata": {
        "id": "82pqcyowAEG1"
      },
      "execution_count": null,
      "outputs": []
    },
    {
      "cell_type": "markdown",
      "source": [
        "Phần 4: Vẽ đồ thị dùng Matplotlib\n",
        "\n",
        "- Tạo dữ liệu phù hợp\n",
        "\n",
        "- Biểu đồ: Scatter Plot, đường, cột, pie, histogram\n",
        "\n",
        "- Tiêu đề, nhãn, màu sắc, ghi chú\n",
        "\n",
        "- Vẽ nhiều biểu đồ con"
      ],
      "metadata": {
        "id": "OhgGXdq72wlA"
      }
    },
    {
      "cell_type": "code",
      "source": [
        "import numpy as np\n",
        "import matplotlib.pyplot as plt\n",
        "\n",
        "# Biểu đồ phân tán (Scatter Plot)\n",
        "np.random.seed(0)\n",
        "x = np.random.randn(100)\n",
        "y = np.random.randn(100)\n",
        "plt.scatter(x, y, c='blue', alpha=0.5, label='Dữ liệu')\n",
        "plt.title(\"Biểu đồ phân tán\", fontsize=14)\n",
        "plt.xlabel(\"Trục X\", fontsize=12)\n",
        "plt.ylabel(\"Trục Y\", fontsize=12)\n",
        "plt.legend(loc='upper left')\n",
        "plt.text(-2, 2, 'Phân tán', fontsize=12)\n",
        "plt.show()"
      ],
      "metadata": {
        "colab": {
          "base_uri": "https://localhost:8080/",
          "height": 479
        },
        "id": "Uq6jcyMyAk02",
        "outputId": "8f518aed-2557-4d18-fd55-6483e05f1573"
      },
      "execution_count": null,
      "outputs": [
        {
          "output_type": "display_data",
          "data": {
            "text/plain": [
              "<Figure size 640x480 with 1 Axes>"
            ],
            "image/png": "[encoded data removed]"
          },
          "metadata": {}
        }
      ]
    },
    {
      "cell_type": "code",
      "source": [
        "import numpy as np\n",
        "import matplotlib.pyplot as plt\n",
        "\n",
        "# Biểu đồ đường (Line Plot)\n",
        "x = np.linspace(0, 10, 100)\n",
        "y = np.sin(x)\n",
        "plt.plot(x, y, color='blue', label='sin(x) Ghi chú')\n",
        "plt.title(\"Biểu đồ đường\", fontsize=14)\n",
        "plt.xlabel(\"Trục X\", fontsize=12)\n",
        "plt.ylabel(\"Trục Y\", fontsize=12)\n",
        "plt.legend(loc='lower right')\n",
        "plt.show()"
      ],
      "metadata": {
        "colab": {
          "base_uri": "https://localhost:8080/",
          "height": 479
        },
        "id": "9Pe8mt5UAkkB",
        "outputId": "7d117fda-5ba2-45b8-89a5-fe4847330bff"
      },
      "execution_count": null,
      "outputs": [
        {
          "output_type": "display_data",
          "data": {
            "text/plain": [
              "<Figure size 640x480 with 1 Axes>"
            ],
            "image/png": "[encoded data removed]"
          },
          "metadata": {}
        }
      ]
    },
    {
      "cell_type": "code",
      "source": [
        "import numpy as np\n",
        "import matplotlib.pyplot as plt\n",
        "# Biểu đồ cột (Bar Chart)\n",
        "loai = ['A', 'B', 'C', 'D']\n",
        "values = [15, 30, 20, 35]\n",
        "plt.bar(loai, values, color='green')\n",
        "plt.title(\"Biểu đồ cột\")\n",
        "plt.xlabel(\"Danh mục\")\n",
        "plt.ylabel(\"Giá trị\")\n",
        "plt.show()"
      ],
      "metadata": {
        "colab": {
          "base_uri": "https://localhost:8080/",
          "height": 473
        },
        "id": "mUuHGKxyAkhN",
        "outputId": "4406a5b3-395a-466e-f603-f113f15a27f6"
      },
      "execution_count": null,
      "outputs": [
        {
          "output_type": "display_data",
          "data": {
            "text/plain": [
              "<Figure size 640x480 with 1 Axes>"
            ],
            "image/png": "[encoded data removed]"
          },
          "metadata": {}
        }
      ]
    },
    {
      "cell_type": "code",
      "source": [
        "# Biểu đồ hình tròn (Pie Chart)\n",
        "labels = ['A', 'B', 'C', 'D']\n",
        "sizes = [20, 30, 25, 25]\n",
        "plt.pie(sizes, labels=labels, autopct='%1.1f%%')\n",
        "plt.title(\"Biểu đồ hình tròn\")\n",
        "plt.show()"
      ],
      "metadata": {
        "id": "u72gEOn4Akd-"
      },
      "execution_count": null,
      "outputs": []
    },
    {
      "cell_type": "code",
      "source": [
        "# Biểu đồ histogram\n",
        "np.random.seed(0)\n",
        "data = np.random.randn(1000)\n",
        "plt.hist(data, bins=30, color='orange')\n",
        "plt.title(\"Biểu đồ histogram\")\n",
        "plt.xlabel(\"Giá trị\")\n",
        "plt.ylabel(\"Tần suất\")\n",
        "plt.show()"
      ],
      "metadata": {
        "id": "h52AEpW1AkbB"
      },
      "execution_count": null,
      "outputs": []
    },
    {
      "cell_type": "code",
      "source": [
        "# Biểu đồ chồng (Subplots)\n",
        "np.random.seed(0)\n",
        "x = np.linspace(0, 10, 100)\n",
        "y1 = np.sin(x)\n",
        "y2 = np.cos(x)\n",
        "fig, (ax1, ax2) = plt.subplots(2, 1, sharex=True)\n",
        "ax1.plot(x, y1)\n",
        "ax1.set_title(\"sin(x)\")\n",
        "ax2.plot(x, y2)\n",
        "ax2.set_title(\"cos(x)\")\n",
        "plt.xlabel(\"Trục X\")\n",
        "plt.show()"
      ],
      "metadata": {
        "id": "Dm0gnfdtAkW7"
      },
      "execution_count": null,
      "outputs": []
    },
    {
      "cell_type": "code",
      "source": [
        "import numpy as np\n",
        "import matplotlib.pyplot as plt\n",
        "\n",
        "# Biểu đồ phân tán (Scatter Plot)\n",
        "np.random.seed(0)\n",
        "x = np.random.randn(100)\n",
        "y = np.random.randn(100)\n",
        "plt.scatter(x, y)\n",
        "plt.title(\"Biểu đồ phân tán\")\n",
        "plt.xlabel(\"Trục X\")\n",
        "plt.ylabel(\"Trục Y\")\n",
        "plt.show()\n",
        "\n",
        "# Biểu đồ đường (Line Plot)\n",
        "x = np.linspace(0, 10, 100)\n",
        "y = np.sin(x)\n",
        "plt.plot(x, y)\n",
        "plt.title(\"Biểu đồ đường\")\n",
        "plt.xlabel(\"Trục X\")\n",
        "plt.ylabel(\"Trục Y\")\n",
        "plt.show()\n",
        "\n",
        "# Biểu đồ cột (Bar Chart)\n",
        "categories = ['A', 'B', 'C', 'D']\n",
        "values = [15, 30, 20, 35]\n",
        "plt.bar(categories, values, color='green')\n",
        "plt.title(\"Biểu đồ cột\")\n",
        "plt.xlabel(\"Danh mục\")\n",
        "plt.ylabel(\"Giá trị\")\n",
        "plt.show()\n",
        "\n",
        "# Biểu đồ hình tròn (Pie Chart)\n",
        "labels = ['A', 'B', 'C', 'D']\n",
        "sizes = [20, 30, 25, 25]\n",
        "plt.pie(sizes, labels=labels, autopct='%1.1f%%')\n",
        "plt.title(\"Biểu đồ hình tròn\")\n",
        "plt.show()\n",
        "\n",
        "# Biểu đồ histogram\n",
        "np.random.seed(0)\n",
        "data = np.random.randn(1000)\n",
        "plt.hist(data, bins=30, color='orange')\n",
        "plt.title(\"Biểu đồ histogram\")\n",
        "plt.xlabel(\"Giá trị\")\n",
        "plt.ylabel(\"Tần suất\")\n",
        "plt.show()\n",
        "\n",
        "# Biểu đồ chồng (Subplots)\n",
        "np.random.seed(0)\n",
        "x = np.linspace(0, 10, 100)\n",
        "y1 = np.sin(x)\n",
        "y2 = np.cos(x)\n",
        "fig, (ax1, ax2) = plt.subplots(2, 1, sharex=True)\n",
        "ax1.plot(x, y1)\n",
        "ax1.set_title(\"sin(x)\")\n",
        "ax2.plot(x, y2)\n",
        "ax2.set_title(\"cos(x)\")\n",
        "plt.xlabel(\"Trục X\")\n",
        "plt.show()"
      ],
      "metadata": {
        "id": "5jzZRo6J2w8h"
      },
      "execution_count": null,
      "outputs": []
    }
  ]
}